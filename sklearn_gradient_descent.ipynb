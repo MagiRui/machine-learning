{
 "cells": [
  {
   "cell_type": "code",
   "execution_count": 8,
   "metadata": {},
   "outputs": [
    {
     "name": "stdout",
     "output_type": "stream",
     "text": [
      "[ 1.5659327  -1.47875405]\n",
      "[ 0.15013232]\n"
     ]
    }
   ],
   "source": [
    "#scikit-learn实现了随机梯度下降的线性模型分类器SGDClassifier和回归器SGDRegressor\n",
    "#使用它们可以学习超大规模样本\n",
    "#SGDRegressor\n",
    "\n",
    "from sklearn.linear_model import SGDRegressor\n",
    "X = [[0,0],[2,1],[5,4]]\n",
    "y = [0, 2, 2]\n",
    "\n",
    "#jupyter using n_iter\n",
    "#pycharm using max_iter\n",
    "reg = SGDRegressor(penalty=\"l2\", n_iter=10000)k'k'k\n",
    "\n",
    "reg.fit(X, y)\n",
    "reg.predict([[4,3]])\n",
    "print(reg.coef_)\n",
    "print(reg.intercept_)"
   ]
  },
  {
   "cell_type": "code",
   "execution_count": 13,
   "metadata": {},
   "outputs": [
    {
     "name": "stdout",
     "output_type": "stream",
     "text": [
      "[ 1.56550035 -1.47798393]\n",
      "[ 0.15040332]\n"
     ]
    }
   ],
   "source": [
    "from sklearn.linear_model import SGDClassifier\n",
    "clf = SGDClassifier(penalty=\"l2\", n_iter=10000)\n",
    "clf.fit(X, y)\n",
    "reg.fit(X, y)\n",
    "reg.predict([[4,3]])\n",
    "print(reg.coef_)\n",
    "print(reg.intercept_)"
   ]
  },
  {
   "cell_type": "code",
   "execution_count": null,
   "metadata": {
    "collapsed": true
   },
   "outputs": [],
   "source": []
  }
 ],
 "metadata": {
  "kernelspec": {
   "display_name": "machinelearn",
   "language": "python",
   "name": "machinelearn"
  },
  "language_info": {
   "codemirror_mode": {
    "name": "ipython",
    "version": 3
   },
   "file_extension": ".py",
   "mimetype": "text/x-python",
   "name": "python",
   "nbconvert_exporter": "python",
   "pygments_lexer": "ipython3",
   "version": "3.6.1"
  }
 },
 "nbformat": 4,
 "nbformat_minor": 2
}
