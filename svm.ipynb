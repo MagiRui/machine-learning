{
 "cells": [
  {
   "cell_type": "code",
   "execution_count": 1,
   "metadata": {},
   "outputs": [
    {
     "name": "stdout",
     "output_type": "stream",
     "text": [
      "[2 1]\n",
      "[ 0.52444566 -0.52444566]\n"
     ]
    }
   ],
   "source": [
    "from sklearn import svm\n",
    "X = [[0,0],[2,2]]\n",
    "y = [1,2]\n",
    "#初始化使用径向基核的分类器\n",
    "clf = svm.SVC(kernel=\"rbf\")\n",
    "clf.fit(X,y)\n",
    "t = [[2,1],[0,1]]\n",
    "print(clf.predict(t))\n",
    "#返回测试数据到超平面的距离\n",
    "print(clf.decision_function(t))\n"
   ]
  }
 ],
 "metadata": {
  "kernelspec": {
   "display_name": "machinelearn",
   "language": "python",
   "name": "machinelearn"
  },
  "language_info": {
   "codemirror_mode": {
    "name": "ipython",
    "version": 3
   },
   "file_extension": ".py",
   "mimetype": "text/x-python",
   "name": "python",
   "nbconvert_exporter": "python",
   "pygments_lexer": "ipython3",
   "version": "3.6.1"
  }
 },
 "nbformat": 4,
 "nbformat_minor": 2
}
