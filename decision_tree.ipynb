{
 "cells": [
  {
   "cell_type": "code",
   "execution_count": 12,
   "metadata": {},
   "outputs": [
    {
     "name": "stdout",
     "output_type": "stream",
     "text": [
      "  (0, 0)\t1\n",
      "  (0, 2)\t1\n",
      "  (0, 3)\t1\n",
      "  (1, 0)\t1\n",
      "  (1, 1)\t1\n",
      "  (2, 0)\t1\n",
      "  (2, 2)\t1\n",
      "  (2, 4)\t1\n",
      "  (3, 0)\t1\n",
      "  (3, 1)\t1\n",
      "  (4, 0)\t1\n",
      "  (4, 2)\t1\n",
      "  (4, 3)\t1\n",
      "  (5, 0)\t1\n",
      "  (5, 1)\t1\n",
      "[0]\n",
      "[ 0.5  0.5  0. ]\n",
      "<sklearn.tree._tree.Tree object at 0x11363b6b0>\n"
     ]
    }
   ],
   "source": [
    "from sklearn import tree\n",
    "X = [[20, 30000, 400],\n",
    "     [37, 13000, 0],\n",
    "     [50, 26000, 0],\n",
    "     [28, 10000, 3000],\n",
    "     [31, 19000, 1500000],\n",
    "     [46, 7000, 6000]]\n",
    "\n",
    "Y = [1, 0, 0, 0, 1, 0]\n",
    "clf = tree.DecisionTreeClassifier(criterion=\"entropy\")\n",
    "clf = clf.fit(X, Y)\n",
    "test_X = [[40, 6000, 0]]\n",
    "print(clf.decision_path(X))\n",
    "print(clf.predict(test_X))\n",
    "print(clf.feature_importances_)\n",
    "print(clf.tree_)"
   ]
  },
  {
   "cell_type": "code",
   "execution_count": 14,
   "metadata": {},
   "outputs": [
    {
     "ename": "ModuleNotFoundError",
     "evalue": "No module named 'graphviz'",
     "output_type": "error",
     "traceback": [
      "\u001b[0;31m---------------------------------------------------------------------------\u001b[0m",
      "\u001b[0;31mModuleNotFoundError\u001b[0m                       Traceback (most recent call last)",
      "\u001b[0;32m<ipython-input-14-2ef01d168ee0>\u001b[0m in \u001b[0;36m<module>\u001b[0;34m()\u001b[0m\n\u001b[0;32m----> 1\u001b[0;31m \u001b[0;32mimport\u001b[0m \u001b[0mgraphviz\u001b[0m\u001b[0;34m\u001b[0m\u001b[0m\n\u001b[0m\u001b[1;32m      2\u001b[0m dot_data = tree.export_graphviz(clf, out_file=None, \n\u001b[1;32m      3\u001b[0m                                \u001b[0mfeature_names\u001b[0m \u001b[0;34m=\u001b[0m\u001b[0;34m[\u001b[0m\u001b[0;34m\"年龄\"\u001b[0m\u001b[0;34m,\u001b[0m \u001b[0;34m\"收入\"\u001b[0m\u001b[0;34m,\u001b[0m \u001b[0;34m\"存管\"\u001b[0m\u001b[0;34m]\u001b[0m\u001b[0;34m,\u001b[0m\u001b[0;34m\u001b[0m\u001b[0m\n\u001b[1;32m      4\u001b[0m                                class_names = [\"普通\", \"VIP\"])\n\u001b[1;32m      5\u001b[0m \u001b[0mgraph\u001b[0m \u001b[0;34m=\u001b[0m \u001b[0mgraphviz\u001b[0m\u001b[0;34m.\u001b[0m\u001b[0mSource\u001b[0m\u001b[0;34m(\u001b[0m\u001b[0mdot_data\u001b[0m\u001b[0;34m)\u001b[0m\u001b[0;34m\u001b[0m\u001b[0m\n",
      "\u001b[0;31mModuleNotFoundError\u001b[0m: No module named 'graphviz'"
     ]
    }
   ],
   "source": [
    "import graphviz\n",
    "dot_data = tree.export_graphviz(clf, out_file=None, \n",
    "                               feature_names =[\"年龄\", \"收入\", \"存管\"],\n",
    "                               class_names = [\"普通\", \"VIP\"])\n",
    "graph = graphviz.Source(dot_data)\n",
    "graph.render(\"mytree\")"
   ]
  }
 ],
 "metadata": {
  "kernelspec": {
   "display_name": "machinelearn",
   "language": "python",
   "name": "machinelearn"
  },
  "language_info": {
   "codemirror_mode": {
    "name": "ipython",
    "version": 3
   },
   "file_extension": ".py",
   "mimetype": "text/x-python",
   "name": "python",
   "nbconvert_exporter": "python",
   "pygments_lexer": "ipython3",
   "version": "3.6.1"
  }
 },
 "nbformat": 4,
 "nbformat_minor": 2
}
