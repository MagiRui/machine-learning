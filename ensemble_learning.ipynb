{
 "cells": [
  {
   "cell_type": "code",
   "execution_count": 3,
   "metadata": {},
   "outputs": [
    {
     "name": "stdout",
     "output_type": "stream",
     "text": [
      "0.953333333333\n"
     ]
    }
   ],
   "source": [
    "from sklearn.datasets import load_iris\n",
    "from sklearn.ensemble import RandomForestClassifier\n",
    "iris = load_iris()\n",
    "#n_estimators:定义基模型的数量\n",
    "#bootstrap=True:采用有放回采样\n",
    "#oob_score=True:指定在训练后进行OOB测试,在训练后马上通过oob_score_属性获得了准确性评估\n",
    "#如果未在模型初始化时指定oob_score=True则不能在训练后访问oob_score_属性\n",
    "clf = RandomForestClassifier(n_estimators=20, bootstrap=True, oob_score=True)\n",
    "clf.fit(iris.data, iris.target)\n",
    "print(clf.oob_score_)"
   ]
  },
  {
   "cell_type": "code",
   "execution_count": 4,
   "metadata": {},
   "outputs": [
    {
     "data": {
      "text/plain": [
       "0.94999999999999996"
      ]
     },
     "execution_count": 4,
     "metadata": {},
     "output_type": "execute_result"
    }
   ],
   "source": [
    "from sklearn.ensemble import AdaBoostClassifier\n",
    "from sklearn.utils import shuffle\n",
    "X, Y = shuffle(iris.data, iris.target)\n",
    "#初始化以GaussianNB作为基模型的AdaBoost分类器\n",
    "from sklearn.naive_bayes import GaussianNB\n",
    "clf = AdaBoostClassifier(GaussianNB())\n",
    "\n",
    "clf.fit(X[:-20], Y[:-20])\n",
    "clf.score(X[-20:], Y[-20:])"
   ]
  }
 ],
 "metadata": {
  "kernelspec": {
   "display_name": "machinelearn",
   "language": "python",
   "name": "machinelearn"
  },
  "language_info": {
   "codemirror_mode": {
    "name": "ipython",
    "version": 3
   },
   "file_extension": ".py",
   "mimetype": "text/x-python",
   "name": "python",
   "nbconvert_exporter": "python",
   "pygments_lexer": "ipython3",
   "version": "3.6.1"
  }
 },
 "nbformat": 4,
 "nbformat_minor": 2
}
