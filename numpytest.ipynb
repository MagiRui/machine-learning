{
 "cells": [
  {
   "cell_type": "code",
   "execution_count": 1,
   "metadata": {
    "collapsed": true
   },
   "outputs": [],
   "source": [
    "import numpy as np"
   ]
  },
  {
   "cell_type": "code",
   "execution_count": 2,
   "metadata": {
    "collapsed": true
   },
   "outputs": [],
   "source": [
    "a = np.array([1,2,3,4,5,6])\n",
    "b = np.array([1,4,9,16,25,36])"
   ]
  },
  {
   "cell_type": "code",
   "execution_count": 4,
   "metadata": {},
   "outputs": [
    {
     "name": "stdout",
     "output_type": "stream",
     "text": [
      "[  1   8  27  64 125 216]\n"
     ]
    }
   ],
   "source": [
    "c = a * b \n",
    "print(c)"
   ]
  },
  {
   "cell_type": "code",
   "execution_count": 5,
   "metadata": {},
   "outputs": [
    {
     "name": "stdout",
     "output_type": "stream",
     "text": [
      "<class 'numpy.ndarray'>\n"
     ]
    }
   ],
   "source": [
    "#给定值生成ndarray\n",
    "#ndarray是Numpy的核心对象，numpy.array()函数是它最简单的构造方式\n",
    "a = np.array([1,2,3,4,5,6])\n",
    "print(type(a))"
   ]
  },
  {
   "cell_type": "code",
   "execution_count": 7,
   "metadata": {},
   "outputs": [
    {
     "name": "stdout",
     "output_type": "stream",
     "text": [
      "[  2.68156159e+154   2.68156159e+154   9.88131292e-324]\n",
      "[[  4.94065646e-324   9.88131292e-324   1.48219694e-323]\n",
      " [  1.97626258e-323   2.47032823e-323   2.96439388e-323]]\n"
     ]
    }
   ],
   "source": [
    "#np.empty()用随机值构造数组,速度最快\n",
    "a1 = np.empty(3)\n",
    "print(a1)\n",
    "\n",
    "#构建2*3举证\n",
    "a2 = np.empty((2,3))\n",
    "print(a2)"
   ]
  },
  {
   "cell_type": "code",
   "execution_count": 10,
   "metadata": {},
   "outputs": [
    {
     "name": "stdout",
     "output_type": "stream",
     "text": [
      "[[ 1.  0.  0.  0.  0.]\n",
      " [ 0.  1.  0.  0.  0.]\n",
      " [ 0.  0.  1.  0.  0.]\n",
      " [ 0.  0.  0.  1.  0.]\n",
      " [ 0.  0.  0.  0.  1.]]\n"
     ]
    }
   ],
   "source": [
    "#np.eye() 构造只有对角线元素卫1的矩阵\n",
    "a3 = np.eye(5,5)\n",
    "print(a3)"
   ]
  },
  {
   "cell_type": "code",
   "execution_count": 12,
   "metadata": {},
   "outputs": [
    {
     "name": "stdout",
     "output_type": "stream",
     "text": [
      "[ 0.  0.  0.  0.]\n",
      "[ 1.  1.  1.  1.]\n"
     ]
    }
   ],
   "source": [
    "#构造全为0的数组\n",
    "a4 = np.zeros(4)\n",
    "print(a4)\n",
    "#构造全为1的数组\n",
    "a5 = np.ones(4)\n",
    "print(a5)"
   ]
  },
  {
   "cell_type": "code",
   "execution_count": 15,
   "metadata": {},
   "outputs": [
    {
     "name": "stdout",
     "output_type": "stream",
     "text": [
      "[[ 0.18538484  0.31006249  0.689224    0.5839446   0.96381664]\n",
      " [ 0.13613226  0.84306532  0.65147104  0.21962733  0.48223917]]\n"
     ]
    }
   ],
   "source": [
    "#随机生成一个2*5的二维数组\n",
    "a6 = np.random.rand(2,5)\n",
    "print(a6)"
   ]
  },
  {
   "cell_type": "code",
   "execution_count": 17,
   "metadata": {},
   "outputs": [
    {
     "name": "stdout",
     "output_type": "stream",
     "text": [
      "[[ 1.  0.  0.]\n",
      " [ 1.  1.  0.]\n",
      " [ 1.  1.  1.]]\n"
     ]
    }
   ],
   "source": [
    "#下三角单位举证\n",
    "a7 = np.tri(3)\n",
    "print(a7)"
   ]
  },
  {
   "cell_type": "code",
   "execution_count": 19,
   "metadata": {},
   "outputs": [
    {
     "name": "stdout",
     "output_type": "stream",
     "text": [
      "[  1.           4.16666667   7.33333333  10.5         13.66666667\n",
      "  16.83333333  20.        ]\n"
     ]
    }
   ],
   "source": [
    "# arange() linspace() logspance() 等函数可以在给定的取值范围内用步长，比值等规则构造出数组序列\n",
    "\n",
    "#在1-20之间生成7个元素\n",
    "b1 = np.linspace(1, 20, num=7)\n",
    "print(b1)"
   ]
  },
  {
   "cell_type": "code",
   "execution_count": 21,
   "metadata": {},
   "outputs": [
    {
     "name": "stdout",
     "output_type": "stream",
     "text": [
      "[ 1  8 15]\n"
     ]
    }
   ],
   "source": [
    "#在1-20之间每7个值生成一个元素\n",
    "b2 = np.arange(1, 20, step = 7)\n",
    "print(b2)"
   ]
  },
  {
   "cell_type": "code",
   "execution_count": 22,
   "metadata": {},
   "outputs": [
    {
     "name": "stdout",
     "output_type": "stream",
     "text": [
      "[  1.00000000e+01   1.46779927e+04   2.15443469e+07   3.16227766e+10\n",
      "   4.64158883e+13   6.81292069e+16   1.00000000e+20]\n"
     ]
    }
   ],
   "source": [
    "#在10^1-10^20之间取7哥指数值\n",
    "b3 = np.logspace(1, 20, num=7, base=10)\n",
    "print(b3)"
   ]
  },
  {
   "cell_type": "code",
   "execution_count": 23,
   "metadata": {},
   "outputs": [
    {
     "name": "stdout",
     "output_type": "stream",
     "text": [
      "[[ 0.82126758  0.99261292  0.10744498  0.40613316  0.46492734]\n",
      " [ 0.44390338  0.01356532  0.42768395  0.04004796  0.35706173]]\n"
     ]
    }
   ],
   "source": [
    "#随机采样\n",
    "#随机生成一个2*5de 二维数组\n",
    "b4 = np.random.rand(2,5)\n",
    "print(b4)"
   ]
  },
  {
   "cell_type": "code",
   "execution_count": 25,
   "metadata": {},
   "outputs": [
    {
     "name": "stdout",
     "output_type": "stream",
     "text": [
      "[ 1.22573965  0.04515477  1.37480834  0.70694157  1.92741216]\n"
     ]
    }
   ],
   "source": [
    "#按均值1，标准差0.5的正太分布生成5个随机数\n",
    "b5 = np.random.normal(1, 0.5, size = 5)\n",
    "print(b5)"
   ]
  },
  {
   "cell_type": "code",
   "execution_count": 27,
   "metadata": {},
   "outputs": [
    {
     "name": "stdout",
     "output_type": "stream",
     "text": [
      "[0 1 2 3 4 5 6 7 8 9]\n",
      "[2 4 6]\n"
     ]
    }
   ],
   "source": [
    "#切片操作\n",
    "#切片的基本语法是一个i:j:k的索引器\n",
    "x= np.array([0,1,2,3,4,5,6,7,8,9])\n",
    "print(x)\n",
    "print(x[2:7:2]) #从索引为2开始，每两步读取一个，到7未知"
   ]
  },
  {
   "cell_type": "code",
   "execution_count": 31,
   "metadata": {},
   "outputs": [
    {
     "name": "stdout",
     "output_type": "stream",
     "text": [
      "[3 4 5 6 7 8]\n",
      "[3 4 5 6 7 8]\n",
      "[7 5 3]\n"
     ]
    }
   ],
   "source": [
    "# i,j,k取值允许为负值，含义是从倒数索引\n",
    "print(x[-7:-1:])\n",
    "print(x[-7:-1])\n",
    "print(x[7:1:-2])"
   ]
  },
  {
   "cell_type": "code",
   "execution_count": 32,
   "metadata": {},
   "outputs": [
    {
     "name": "stdout",
     "output_type": "stream",
     "text": [
      "0,1,2,3,4,5,6,7,8,9,"
     ]
    }
   ],
   "source": [
    "#迭代一维数组，可以直接迭代ndarray已访问所有元素\n",
    "for i in x:\n",
    "    print(i, end=',')"
   ]
  },
  {
   "cell_type": "code",
   "execution_count": 35,
   "metadata": {},
   "outputs": [
    {
     "name": "stdout",
     "output_type": "stream",
     "text": [
      "[[ 1  2]\n",
      " [ 5  6]\n",
      " [ 9 10]]\n",
      "(0, 0) : 1\n",
      "(0, 1) : 2\n",
      "(1, 0) : 5\n",
      "(1, 1) : 6\n",
      "(2, 0) : 9\n",
      "(2, 1) : 10\n"
     ]
    }
   ],
   "source": [
    "#对于多维数组可以使用ndenumerate()函数迭代的同事获取元素下标\n",
    "x = np.array([[1,2,],[5,6,],[9,10,]])\n",
    "print(x)\n",
    "for index, value in np.ndenumerate(x):\n",
    "    print(index, \":\", value)"
   ]
  },
  {
   "cell_type": "code",
   "execution_count": 36,
   "metadata": {},
   "outputs": [
    {
     "name": "stdout",
     "output_type": "stream",
     "text": [
      "(array([1, 2, 3, 4, 6]), array([0, 1, 5, 3, 2]), array([0, 1, 4, 3, 1, 2, 1]), array([1, 3, 1, 1, 1]))\n"
     ]
    }
   ],
   "source": [
    "#唯一列表\n",
    "a = np.array([1,2,6,4,2,3,2])\n",
    "b = np.unique(a, return_index=True, return_inverse=True, return_counts=True)\n",
    "print(b)\n",
    "#第一个返结果： 数组\n",
    "#第二个结果：  数组中每个元素在原始数组中的索引\n",
    "#第三个结果：  原数组中每个元素在结果数组中的索引\n",
    "#第四个结果    结果数组中每个元素在原始数组数组中的计数\n"
   ]
  }
 ],
 "metadata": {
  "kernelspec": {
   "display_name": "machinelearn",
   "language": "python",
   "name": "machinelearn"
  },
  "language_info": {
   "codemirror_mode": {
    "name": "ipython",
    "version": 3
   },
   "file_extension": ".py",
   "mimetype": "text/x-python",
   "name": "python",
   "nbconvert_exporter": "python",
   "pygments_lexer": "ipython3",
   "version": "3.6.1"
  }
 },
 "nbformat": 4,
 "nbformat_minor": 2
}
